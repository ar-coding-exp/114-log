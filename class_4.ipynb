{
 "cells": [
  {
   "cell_type": "markdown",
   "id": "651d8b5d",
   "metadata": {},
   "source": [
    "# Class 4 - Stacks and Queues \n",
    "\n",
    "## Stacks\n",
    "A stack is an ordered collection of elements where items are added and removes from one end, commenly referred to as the \"top\". The ordering principle is referred to as the LIFO (Last in, first out)\n",
    "\n",
    "## Queues\n",
    "A queue is an ordered collection of elements where items are added and removed from **opposite** ends, \n",
    "commonly referred to as the \"front\" and \"back\" or \"rear\" of the queue. The ordering principle is referred to as FIFO (first in, first out) or \"first come, first serve\". "
   ]
  },
  {
   "cell_type": "code",
   "execution_count": 14,
   "id": "6751ded1",
   "metadata": {},
   "outputs": [
    {
     "name": "stdout",
     "output_type": "stream",
     "text": [
      "34\n",
      "34\n",
      "32\n",
      "[30, 32]\n"
     ]
    },
    {
     "data": {
      "text/plain": [
       "False"
      ]
     },
     "execution_count": 14,
     "metadata": {},
     "output_type": "execute_result"
    }
   ],
   "source": [
    "class Stack:\n",
    "    def __init__(self):\n",
    "        self.items = []\n",
    "\n",
    "    def push(self, value):\n",
    "        self.items.append(value)\n",
    "\n",
    "    def pop(self):\n",
    "        return self.items.pop()\n",
    "\n",
    "    def size(self):\n",
    "        return len(self.items)\n",
    "\n",
    "    def peek(self):\n",
    "        return self.items[len(self.items)-1]\n",
    "\n",
    "    def is_empty(self):\n",
    "        return self.items == []\n",
    "\n",
    "stack = Stack()\n",
    "stack.push(30)\n",
    "stack.push(32)\n",
    "stack.push(34)\n",
    "print(stack.peek())\n",
    "print(stack.pop())\n",
    "print(stack.peek())\n",
    "print(stack.items)\n",
    "stack.size()\n",
    "stack.is_empty()\n",
    "\n"
   ]
  },
  {
   "cell_type": "code",
   "execution_count": 15,
   "id": "dc03684a",
   "metadata": {},
   "outputs": [
    {
     "name": "stdout",
     "output_type": "stream",
     "text": [
      "['Brittany', 'Britney', 'Maryna', 'Ray', 'David', 'Tatiana', 'James']\n"
     ]
    },
    {
     "data": {
      "text/plain": [
       "'Brittany'"
      ]
     },
     "execution_count": 15,
     "metadata": {},
     "output_type": "execute_result"
    }
   ],
   "source": [
    "class Queue:\n",
    "    def __init__(self):\n",
    "        self.items = []\n",
    "    def enqueue(self, element):\n",
    "        self.items.insert(0, element)\n",
    "    def dequeue(self):\n",
    "        return self.items.pop()\n",
    "    def peek(self):\n",
    "        return self.items[len(self.items)-1]\n",
    "    def size(self):\n",
    "        return len(self.items)\n",
    "    def is_empty(self):\n",
    "        return self.items == []\n",
    "\n",
    "class_queue = Queue()\n",
    "class_queue.enqueue(\"James\")\n",
    "class_queue.enqueue(\"Tatiana\")\n",
    "class_queue.enqueue(\"David\")\n",
    "class_queue.enqueue(\"Ray\")\n",
    "class_queue.enqueue(\"Maryna\")\n",
    "class_queue.enqueue(\"Britney\")\n",
    "class_queue.enqueue(\"Brittany\")\n",
    "print(class_queue.items)\n",
    "class_queue.peek()\n",
    "class_queue.dequeue()\n",
    "class_queue.peek()\n",
    "class_queue.dequeue()\n",
    "class_queue.peek()\n",
    "class_queue.dequeue()\n",
    "class_queue.peek()\n",
    "class_queue.dequeue()\n",
    "class_queue.peek()\n",
    "class_queue.dequeue()\n",
    "class_queue.peek()\n",
    "class_queue.dequeue()\n",
    "class_queue.peek()\n",
    "class_queue.dequeue()\n"
   ]
  },
  {
   "cell_type": "code",
   "execution_count": null,
   "id": "7b8f6c80",
   "metadata": {},
   "outputs": [],
   "source": [
    "class Node:\n",
    "    def __init__(self,data):\n",
    "        self.data = data\n",
    "        self.below = None\n",
    "\n",
    "class CustomStack():\n",
    "    def __init__(self):\n",
    "        self.top = None\n",
    "\n",
    "    def push(self,value):\n",
    "        if not self.top:\n",
    "            self.top = Node(value)\n",
    "        else:\n",
    "            new_node = Node(value)\n",
    "            new_node.below = self.top\n",
    "            self.top = new_node\n",
    "\n",
    "    def pop(self):\n",
    "        if not self.top:\n",
    "            raise IndexError(\"Stack is Empty\")\n",
    "        else:\n",
    "            current = self.top.data\n",
    "            self.top = self.top.below\n",
    "            return current\n",
    "\n",
    "    def is_empty(self):\n",
    "        return self.top == None\n",
    "\n",
    "custom_stack = CustomStack()\n",
    "custom_stack.push(60)\n",
    "custom_stack.push(70)\n",
    "custom_stack.push(80)\n",
    "custom_stack.pop\n",
    "custom_stack.pop\n",
    "custom_stack.pop\n"
   ]
  }
 ],
 "metadata": {
  "kernelspec": {
   "display_name": "Python 3",
   "language": "python",
   "name": "python3"
  },
  "language_info": {
   "codemirror_mode": {
    "name": "ipython",
    "version": 3
   },
   "file_extension": ".py",
   "mimetype": "text/x-python",
   "name": "python",
   "nbconvert_exporter": "python",
   "pygments_lexer": "ipython3",
   "version": "3.13.7"
  }
 },
 "nbformat": 4,
 "nbformat_minor": 5
}
