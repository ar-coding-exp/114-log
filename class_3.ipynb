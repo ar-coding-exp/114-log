{
 "cells": [
  {
   "cell_type": "markdown",
   "id": "4b8b5700",
   "metadata": {},
   "source": [
    "### Class 3 OOP Basics and DSA(Nodes and Linked List)"
   ]
  },
  {
   "cell_type": "markdown",
   "id": "db101160",
   "metadata": {},
   "source": [
    "OOP - Object Oriented Programming is an object-oriented language, allowing you to structure your code using classes and object for better organization and reusablilty. \n",
    "\n",
    "Advantages: \n",
    "\n",
    "- Provides a clear structure to programs\n",
    "- Makes code easier to maintain, reuse and debug\n",
    "- Helps keep your code DRY (Do no repeat yourself)\n",
    "- Allows you to build reusable applications with less code \n",
    "\n",
    "Classes and objects\n",
    "\n",
    "A class defines what an object should look like an an object is created based on that class. For example: Class -> Fruit Objects -> Apple, Banana,Mango\n",
    "\n",
    "Class -> Car Objects -> Audi, Tesla, Toyota\n",
    "\n",
    "The four pillars of OOP\n",
    "\n",
    "- Encapsulation\n",
    "- Abstraction\n",
    "- Inheritence\n",
    "- Polymorphism"
   ]
  },
  {
   "cell_type": "code",
   "execution_count": null,
   "id": "ed54c205",
   "metadata": {},
   "outputs": [],
   "source": [
    "# Rserves keyword 'class + name of the class#Note: the name of the class should follow the Pascal Case Notation\n",
    "class MyClass:\n",
    "    x =5\n",
    "\n",
    "p1 = MyClass()\n",
    "p2 = MyClass()\n",
    "p3 = MyClass()\n",
    "print(p1,x)\n",
    "print(p2,x)\n",
    "print(p3,x)"
   ]
  },
  {
   "cell_type": "code",
   "execution_count": 2,
   "id": "b2f6d76e",
   "metadata": {},
   "outputs": [
    {
     "ename": "KeyboardInterrupt",
     "evalue": "",
     "output_type": "error",
     "traceback": [
      "\u001b[31m---------------------------------------------------------------------------\u001b[39m",
      "\u001b[31mKeyboardInterrupt\u001b[39m                         Traceback (most recent call last)",
      "\u001b[36mCell\u001b[39m\u001b[36m \u001b[39m\u001b[32mIn[2]\u001b[39m\u001b[32m, line 1\u001b[39m\n\u001b[32m----> \u001b[39m\u001b[32m1\u001b[39m \u001b[38;5;28;01mclass\u001b[39;00m\u001b[38;5;250m \u001b[39m\u001b[34;01mPerson\u001b[39;00m:\n\u001b[32m      2\u001b[39m     \u001b[38;5;66;03m#Constructor - Executes when initializing an object\u001b[39;00m\n\u001b[32m      3\u001b[39m     \u001b[38;5;28;01mdef\u001b[39;00m\u001b[38;5;250m \u001b[39m\u001b[34m__init__\u001b[39m(\u001b[38;5;28mself\u001b[39m,name,age):\n\u001b[32m      4\u001b[39m         \u001b[38;5;28mself\u001b[39m.name = name\n",
      "\u001b[36mFile \u001b[39m\u001b[32m<stringsource>:69\u001b[39m, in \u001b[36mcfunc.to_py.__Pyx_CFunc_b0409f__29_pydevd_sys_monitoring_cython_object__lParen__etc_to_py_4code_4line.wrap\u001b[39m\u001b[34m()\u001b[39m\n",
      "\u001b[36mFile \u001b[39m\u001b[32m_pydevd_sys_monitoring\\\\_pydevd_sys_monitoring_cython.pyx:1481\u001b[39m, in \u001b[36m_pydevd_sys_monitoring_cython._line_event\u001b[39m\u001b[34m()\u001b[39m\n",
      "\u001b[36mFile \u001b[39m\u001b[32m_pydevd_sys_monitoring\\\\_pydevd_sys_monitoring_cython.pyx:1523\u001b[39m, in \u001b[36m_pydevd_sys_monitoring_cython._internal_line_event\u001b[39m\u001b[34m()\u001b[39m\n",
      "\u001b[36mFile \u001b[39m\u001b[32m_pydevd_sys_monitoring\\\\_pydevd_sys_monitoring_cython.pyx:1324\u001b[39m, in \u001b[36m_pydevd_sys_monitoring_cython._stop_on_breakpoint\u001b[39m\u001b[34m()\u001b[39m\n",
      "\u001b[36mFile \u001b[39m\u001b[32m_pydevd_sys_monitoring\\\\_pydevd_sys_monitoring_cython.pyx:1961\u001b[39m, in \u001b[36m_pydevd_sys_monitoring_cython._do_wait_suspend\u001b[39m\u001b[34m()\u001b[39m\n",
      "\u001b[36mFile \u001b[39m\u001b[32m/Library/Frameworks/Python.framework/Versions/3.13/lib/python3.13/site-packages/debugpy/_vendored/pydevd/pydevd.py:2188\u001b[39m, in \u001b[36mPyDB.do_wait_suspend\u001b[39m\u001b[34m(self, thread, frame, event, arg, exception_type)\u001b[39m\n\u001b[32m   2185\u001b[39m             from_this_thread.append(frame_custom_thread_id)\n\u001b[32m   2187\u001b[39m     \u001b[38;5;28;01mwith\u001b[39;00m \u001b[38;5;28mself\u001b[39m._threads_suspended_single_notification.notify_thread_suspended(thread_id, thread, stop_reason):\n\u001b[32m-> \u001b[39m\u001b[32m2188\u001b[39m         keep_suspended = \u001b[38;5;28;43mself\u001b[39;49m\u001b[43m.\u001b[49m\u001b[43m_do_wait_suspend\u001b[49m\u001b[43m(\u001b[49m\u001b[43mthread\u001b[49m\u001b[43m,\u001b[49m\u001b[43m \u001b[49m\u001b[43mframe\u001b[49m\u001b[43m,\u001b[49m\u001b[43m \u001b[49m\u001b[43mevent\u001b[49m\u001b[43m,\u001b[49m\u001b[43m \u001b[49m\u001b[43marg\u001b[49m\u001b[43m,\u001b[49m\u001b[43m \u001b[49m\u001b[43mtrace_suspend_type\u001b[49m\u001b[43m,\u001b[49m\u001b[43m \u001b[49m\u001b[43mfrom_this_thread\u001b[49m\u001b[43m,\u001b[49m\u001b[43m \u001b[49m\u001b[43mframes_tracker\u001b[49m\u001b[43m)\u001b[49m\n\u001b[32m   2190\u001b[39m frames_list = \u001b[38;5;28;01mNone\u001b[39;00m\n\u001b[32m   2192\u001b[39m \u001b[38;5;28;01mif\u001b[39;00m keep_suspended:\n\u001b[32m   2193\u001b[39m     \u001b[38;5;66;03m# This means that we should pause again after a set next statement.\u001b[39;00m\n",
      "\u001b[36mFile \u001b[39m\u001b[32m/Library/Frameworks/Python.framework/Versions/3.13/lib/python3.13/site-packages/debugpy/_vendored/pydevd/pydevd.py:2257\u001b[39m, in \u001b[36mPyDB._do_wait_suspend\u001b[39m\u001b[34m(self, thread, frame, event, arg, trace_suspend_type, from_this_thread, frames_tracker)\u001b[39m\n\u001b[32m   2254\u001b[39m                 queue.put(internal_cmd)\n\u001b[32m   2255\u001b[39m                 wait_timeout = TIMEOUT_FAST\n\u001b[32m-> \u001b[39m\u001b[32m2257\u001b[39m         \u001b[43mnotify_event\u001b[49m\u001b[43m.\u001b[49m\u001b[43mwait\u001b[49m\u001b[43m(\u001b[49m\u001b[43mwait_timeout\u001b[49m\u001b[43m)\u001b[49m\n\u001b[32m   2258\u001b[39m         notify_event.clear()\n\u001b[32m   2260\u001b[39m \u001b[38;5;28;01mfinally\u001b[39;00m:\n",
      "\u001b[36mFile \u001b[39m\u001b[32m/Library/Frameworks/Python.framework/Versions/3.13/lib/python3.13/threading.py:659\u001b[39m, in \u001b[36mEvent.wait\u001b[39m\u001b[34m(self, timeout)\u001b[39m\n\u001b[32m    657\u001b[39m signaled = \u001b[38;5;28mself\u001b[39m._flag\n\u001b[32m    658\u001b[39m \u001b[38;5;28;01mif\u001b[39;00m \u001b[38;5;129;01mnot\u001b[39;00m signaled:\n\u001b[32m--> \u001b[39m\u001b[32m659\u001b[39m     signaled = \u001b[38;5;28;43mself\u001b[39;49m\u001b[43m.\u001b[49m\u001b[43m_cond\u001b[49m\u001b[43m.\u001b[49m\u001b[43mwait\u001b[49m\u001b[43m(\u001b[49m\u001b[43mtimeout\u001b[49m\u001b[43m)\u001b[49m\n\u001b[32m    660\u001b[39m \u001b[38;5;28;01mreturn\u001b[39;00m signaled\n",
      "\u001b[36mFile \u001b[39m\u001b[32m/Library/Frameworks/Python.framework/Versions/3.13/lib/python3.13/threading.py:363\u001b[39m, in \u001b[36mCondition.wait\u001b[39m\u001b[34m(self, timeout)\u001b[39m\n\u001b[32m    361\u001b[39m \u001b[38;5;28;01melse\u001b[39;00m:\n\u001b[32m    362\u001b[39m     \u001b[38;5;28;01mif\u001b[39;00m timeout > \u001b[32m0\u001b[39m:\n\u001b[32m--> \u001b[39m\u001b[32m363\u001b[39m         gotit = \u001b[43mwaiter\u001b[49m\u001b[43m.\u001b[49m\u001b[43macquire\u001b[49m\u001b[43m(\u001b[49m\u001b[38;5;28;43;01mTrue\u001b[39;49;00m\u001b[43m,\u001b[49m\u001b[43m \u001b[49m\u001b[43mtimeout\u001b[49m\u001b[43m)\u001b[49m\n\u001b[32m    364\u001b[39m     \u001b[38;5;28;01melse\u001b[39;00m:\n\u001b[32m    365\u001b[39m         gotit = waiter.acquire(\u001b[38;5;28;01mFalse\u001b[39;00m)\n",
      "\u001b[31mKeyboardInterrupt\u001b[39m: "
     ]
    }
   ],
   "source": [
    "class Person:\n",
    "    #Constructor - Executes when initializing an object\n",
    "    def __init__(self,name,age):\n",
    "        self.name = name\n",
    "        self.age = age\n",
    "\n",
    "    def my_func(self):\n",
    "        print(\"Hello my name is \" + self.name)\n",
    "#To String - returns the values of the object instead of the memory location\n",
    "    def __str__(self):\n",
    "        return f\"{self.name} {self.age}\"\n",
    "\n",
    "p1 = Person(\"Luis\",24)\n",
    "p2 = Person(\"Alexander\",36)\n",
    "print(p1)\n",
    "print(p2)\n",
    "\n",
    "p1.my_func()\n",
    "p1.age = 28\n",
    "print(p1)\n",
    "\n"
   ]
  },
  {
   "cell_type": "markdown",
   "id": "5f3cd235",
   "metadata": {},
   "source": [
    "# Data Structures and Algorithms (DSA) \n",
    "\n",
    "DS is about how data can be stored in different structures (accessing, searching, inserting and deleting)\n",
    "\n",
    "Algorithms are about how to solve different problems, often by searching through and manipulating data structures\n",
    "\n",
    "### nodes and SLL (Single Linked-Lists)\n",
    "\n",
    "Differences between arrays and linked lists: \n",
    "1. We don't need to preallocate space \n",
    "2. Insertion it's easy\n",
    "\n"
   ]
  },
  {
   "cell_type": "code",
   "execution_count": 4,
   "id": "a03a83c8",
   "metadata": {},
   "outputs": [
    {
     "name": "stdout",
     "output_type": "stream",
     "text": [
      "[298, 305, 320, 301, 292]\n",
      "[298, 284, 305, 320, 301, 292]\n"
     ]
    }
   ],
   "source": [
    "# Arrays\n",
    "\n",
    "stock_prices = [298,305,320,301,292]\n",
    "print(stock_prices)\n",
    "\n",
    "stock_prices.insert(1,284)\n",
    "\n",
    "print(stock_prices)"
   ]
  },
  {
   "cell_type": "code",
   "execution_count": 32,
   "id": "55f3e7b6",
   "metadata": {},
   "outputs": [
    {
     "name": "stdout",
     "output_type": "stream",
     "text": [
      " 20--->298--->3--->None\n",
      " 20--->298--->3--->None\n",
      "1\n"
     ]
    }
   ],
   "source": [
    "#Single Linklist\n",
    "\n",
    "# Nodes => [data | link]\n",
    "\"\"\"\n",
    "0x00500 0x00A1  0x00C5  0x00D7  0x00C0\n",
    "[298 | 0x00A1] -> [305 | 0x00C5] -> [320 | 0x00D7] -> [301 | 0x00C0] -> [292 | null]\n",
    "\n",
    "Inserting element 284 at position 1\n",
    "\n",
    "0x00500 0xC702  0x00A1  0x00C5  0x00D7  0x00C0\n",
    "[298 | 0x00A1] -> [284 | 0x00A1] -> [305 | 0x00C5] -> [320 | 0x00D7] -> [301 | 0x00C0] -> [292 | null]\n",
    "\n",
    "Insert Element at beginning = 0(1)\n",
    "Delete Element at beginning = 0(1)\n",
    "Insert/Delete Element at the end = 0(n)\n",
    "Linked List Traversal = 0(n)\n",
    "Accessing Element by value = 0(n)\n",
    "\"\"\"\n",
    "\n",
    "class Node:\n",
    "    def __init__(self,data,next):\n",
    "        self.data = data\n",
    "        self.next = next\n",
    "\n",
    "class LinkedList:\n",
    "    def __init__(self):\n",
    "        self.head = None\n",
    "\n",
    "    def insert_at_beginning(self,data):\n",
    "        node = Node(data, self.head)\n",
    "        self.head = node\n",
    "\n",
    "    def insert_at_end(self,data):\n",
    "        if self.head is None:\n",
    "            self.head = Node(data, None)\n",
    "            return\n",
    "            \n",
    "        itr = self.head\n",
    "        while itr.next:\n",
    "            itr = itr.next\n",
    "\n",
    "        itr.next = Node(data,None)\n",
    "\n",
    "    def print(self):\n",
    "        #TO DO: Implrement the logic\n",
    "        #Check if the linked list is not empty, if so, print a message\n",
    "        #\"It's empty\", otherwise iterate through the nodes and collect\n",
    "        #the data value in another variable and print that in the console\n",
    "        # Final Output: 20 -> 298 -> 3 ->\n",
    "        if self.head == None:\n",
    "            print(\"Linked List is Empty!\")\n",
    "            return\n",
    "        current = self.head\n",
    "        nodes_str = ' '\n",
    "        while current:\n",
    "            nodes_str += str(current.data) + '--->'\n",
    "            current = current.next\n",
    "        print(nodes_str + \"None\")\n",
    "        \n",
    "    def __str__(self):\n",
    "        if self.head == None:\n",
    "            print(\"Linked List is Empty!\")\n",
    "            return\n",
    "        current = self.head\n",
    "        nodes_str = ' '\n",
    "        while current:\n",
    "            nodes_str += str(current.data) + '--->'\n",
    "            current = current.next\n",
    "        return nodes_str + \"None\"\n",
    "\n",
    "    def length(self):\n",
    "        count = 0 \n",
    "        current = self.head\n",
    "        while current:\n",
    "            count += 1\n",
    "            current = current.next\n",
    "            return count\n",
    "\n",
    "\n",
    "linked_list = LinkedList()\n",
    "linked_list.insert_at_beginning(298)\n",
    "linked_list.insert_at_beginning(20)\n",
    "linked_list.insert_at_end(3)\n",
    "linked_list.print()\n",
    "print(linked_list) #linked_list = <__main__.LinkedList object at 0x112ec52b0>\n",
    "print(linked_list.length()) \n",
    "\n"
   ]
  }
 ],
 "metadata": {
  "kernelspec": {
   "display_name": "Python 3",
   "language": "python",
   "name": "python3"
  },
  "language_info": {
   "codemirror_mode": {
    "name": "ipython",
    "version": 3
   },
   "file_extension": ".py",
   "mimetype": "text/x-python",
   "name": "python",
   "nbconvert_exporter": "python",
   "pygments_lexer": "ipython3",
   "version": "3.13.7"
  }
 },
 "nbformat": 4,
 "nbformat_minor": 5
}
