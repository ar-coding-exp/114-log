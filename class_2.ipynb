{
 "cells": [
  {
   "cell_type": "markdown",
   "id": "bc2b430a",
   "metadata": {},
   "source": [
    "# Class 2 - More problems, Big O Notation and Introduction to DSA\n"
   ]
  },
  {
   "cell_type": "markdown",
   "id": "b12d5609",
   "metadata": {},
   "source": [
    "# Problem 1\n",
    "### Anagram Check\n",
    "\n",
    "Create a function that takes two strings as parameters and returns True if they are anagrams of each other, False otherwise. \n",
    "\n",
    "Examples:\n",
    "1. heart and earth\n",
    "2. scar and cars\n",
    "3. start and rates \n",
    "etc \n",
    "\n",
    "### Criteria \n",
    "Two strings are anagrams of each other if and only if all the criteria below are met: \n",
    ">1. They must use all the same characters\n",
    ">2. They must be of exactly the same length (in characters)"
   ]
  },
  {
   "cell_type": "code",
   "execution_count": 30,
   "id": "2a71edfa",
   "metadata": {},
   "outputs": [
    {
     "name": "stdout",
     "output_type": "stream",
     "text": [
      "Anagrams, these words are not\n",
      "['r', 'a', 's', 's']\n",
      "['s', 't', 'a', 'r']\n"
     ]
    }
   ],
   "source": [
    "def anagram_check(string1,string2):\n",
    "    adjusted1 = string1.lower()\n",
    "    adjusted2 = string2.lower()\n",
    "    #input1 = set(filter(Empty,adjusted1))\n",
    "    #input2 = set(filter(Empty,adjusted2))\n",
    "    input1 = list(adjusted1)\n",
    "    input2 = list(adjusted2)\n",
    "    if input1 == input2:\n",
    "            print(\"These words are anagrams.\")\n",
    "            print(input1)\n",
    "            print(input2)\n",
    "    else:\n",
    "            print(\"Anagrams, these words are not\")\n",
    "            print(input1)\n",
    "            print(input2)\n",
    "anagram_check(\"rass\",\"Star\")\n"
   ]
  },
  {
   "cell_type": "code",
   "execution_count": 37,
   "id": "8be4b15e",
   "metadata": {},
   "outputs": [
    {
     "data": {
      "text/plain": [
       "True"
      ]
     },
     "execution_count": 37,
     "metadata": {},
     "output_type": "execute_result"
    }
   ],
   "source": [
    "def check_anagrams(w1,w2):\n",
    "    w1 = w1.replace(\" \",\"\").lower()\n",
    "    w2 = w2.replace(\" \",\"\").lower()\n",
    "    dict1 = {}\n",
    "    dict2 = {}\n",
    "\n",
    "    if len(w1) == len(w2):\n",
    "        for letter in w1:\n",
    "            if dict1.get(letter) == None:\n",
    "                dict1[letter] = 1\n",
    "            else:\n",
    "                dict1[letter] += 1\n",
    "        for letter in w2:\n",
    "            if dict2.get(letter) == None:\n",
    "                dict2[letter] = 1\n",
    "            else:\n",
    "                dict2[letter] += 1\n",
    "        return dict1 == dict2\n",
    "    else:\n",
    "        return False\n",
    "\n",
    "check_anagrams(\"rats\",\"star\")\n",
    "    "
   ]
  },
  {
   "cell_type": "markdown",
   "id": "82d112b6",
   "metadata": {},
   "source": []
  }
 ],
 "metadata": {
  "kernelspec": {
   "display_name": "Python 3",
   "language": "python",
   "name": "python3"
  },
  "language_info": {
   "codemirror_mode": {
    "name": "ipython",
    "version": 3
   },
   "file_extension": ".py",
   "mimetype": "text/x-python",
   "name": "python",
   "nbconvert_exporter": "python",
   "pygments_lexer": "ipython3",
   "version": "3.13.7"
  }
 },
 "nbformat": 4,
 "nbformat_minor": 5
}
